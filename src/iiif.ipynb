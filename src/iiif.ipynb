{
 "cells": [
  {
   "cell_type": "code",
   "execution_count": 1,
   "metadata": {},
   "outputs": [],
   "source": [
    "%load_ext autoreload\n",
    "%autoreload 2\n",
    "from toji_iiif.core import TojiClient"
   ]
  },
  {
   "cell_type": "code",
   "execution_count": 2,
   "metadata": {},
   "outputs": [
    {
     "name": "stderr",
     "output_type": "stream",
     "text": [
      "100%|██████████| 46257/46257 [00:26<00:00, 1769.87it/s]\n"
     ]
    }
   ],
   "source": [
    "DATA_DIR = \"./data\"\n",
    "DOCS_DIR = \"../docs\"\n",
    "ORIGIN = \"https://nakamura196.github.io/toji_iiif/iiif\"\n",
    "\n",
    "TojiClient.main(DATA_DIR, DOCS_DIR, ORIGIN, size=-1, is_skip_if_manifest_exists=True)"
   ]
  },
  {
   "cell_type": "code",
   "execution_count": 3,
   "metadata": {},
   "outputs": [],
   "source": [
    "# TojiClient.main(DATA_DIR, DOCS_DIR, ORIGIN, size=-1, is_skip_if_manifest_exists=False)"
   ]
  },
  {
   "cell_type": "code",
   "execution_count": null,
   "metadata": {},
   "outputs": [],
   "source": [
    "TojiClient.create_index(\n",
    "    f\"{DOCS_DIR}/iiif/set/3/collection.json\",\n",
    "    f\"{DOCS_DIR}/index.html\",\n",
    ")"
   ]
  }
 ],
 "metadata": {
  "kernelspec": {
   "display_name": ".venv",
   "language": "python",
   "name": "python3"
  },
  "language_info": {
   "codemirror_mode": {
    "name": "ipython",
    "version": 3
   },
   "file_extension": ".py",
   "mimetype": "text/x-python",
   "name": "python",
   "nbconvert_exporter": "python",
   "pygments_lexer": "ipython3",
   "version": "3.9.11"
  }
 },
 "nbformat": 4,
 "nbformat_minor": 2
}
