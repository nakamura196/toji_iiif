{
 "cells": [
  {
   "cell_type": "code",
   "execution_count": null,
   "metadata": {},
   "outputs": [
    {
     "name": "stdout",
     "output_type": "stream",
     "text": [
      "The autoreload extension is already loaded. To reload it, use:\n",
      "  %reload_ext autoreload\n"
     ]
    }
   ],
   "source": [
    "#| hide\n",
    "%load_ext autoreload\n",
    "%autoreload 2\n",
    "from toji_iiif.core import TojiClient"
   ]
  },
  {
   "cell_type": "markdown",
   "metadata": {},
   "source": [
    "# toji_iiif\n",
    "\n",
    "> 東寺百合文書WEBで公開されている画像をIIIF形式で配信するプロジェクト"
   ]
  },
  {
   "cell_type": "markdown",
   "metadata": {},
   "source": [
    "東寺百合文書WEBで公開されている画像をIIIF形式で配信するプロジェクト"
   ]
  },
  {
   "cell_type": "markdown",
   "metadata": {},
   "source": [
    "## Demo\n",
    "\n",
    "https://nakamura196.github.io/toji_iiif/"
   ]
  },
  {
   "cell_type": "markdown",
   "metadata": {},
   "source": [
    "## Install"
   ]
  },
  {
   "cell_type": "markdown",
   "metadata": {},
   "source": [
    "```sh\n",
    "pip install toji_iiif\n",
    "```"
   ]
  },
  {
   "cell_type": "markdown",
   "metadata": {},
   "source": [
    "## How to use"
   ]
  },
  {
   "cell_type": "markdown",
   "metadata": {},
   "source": [
    "Fill me in please! Don't forget code examples:"
   ]
  },
  {
   "cell_type": "code",
   "execution_count": null,
   "metadata": {},
   "outputs": [
    {
     "name": "stderr",
     "output_type": "stream",
     "text": [
      "  0%|          | 0/46257 [00:00<?, ?it/s]\n"
     ]
    }
   ],
   "source": [
    "DATA_DIR = \"../src/data\"\n",
    "DOCS_DIR = \"../docs\"\n",
    "ORIGIN = \"https://nakamura196.github.io/toji_iiif/iiif\"\n",
    "\n",
    "TojiClient.main(DATA_DIR, DOCS_DIR, ORIGIN, size=1, is_skip_if_manifest_exists=True)"
   ]
  },
  {
   "cell_type": "code",
   "execution_count": null,
   "metadata": {},
   "outputs": [],
   "source": [
    "TojiClient.create_index(\n",
    "    f\"{DOCS_DIR}/iiif/set/3/collection.json\",\n",
    "    f\"{DOCS_DIR}/index.html\",\n",
    ")"
   ]
  }
 ],
 "metadata": {
  "kernelspec": {
   "display_name": "python3",
   "language": "python",
   "name": "python3"
  }
 },
 "nbformat": 4,
 "nbformat_minor": 4
}
