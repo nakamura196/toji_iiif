{
 "cells": [
  {
   "cell_type": "markdown",
   "metadata": {},
   "source": [
    "# toji_iiif\n",
    "\n",
    "> 東寺百合文書WEBで公開されている画像をIIIF形式で配信するプロジェクト"
   ]
  },
  {
   "cell_type": "markdown",
   "metadata": {},
   "source": [
    "東寺百合文書WEBで公開されている画像をIIIF形式で配信するプロジェクト"
   ]
  },
  {
   "cell_type": "markdown",
   "metadata": {},
   "source": [
    "## Demo\n",
    "\n",
    "https://nakamura196.github.io/toji_iiif/"
   ]
  },
  {
   "cell_type": "markdown",
   "metadata": {},
   "source": [
    "## Install"
   ]
  },
  {
   "cell_type": "markdown",
   "metadata": {},
   "source": [
    "```sh\n",
    "pip install git+https://github.com/nakamura196/toji_iiif.git\n",
    "```"
   ]
  },
  {
   "cell_type": "markdown",
   "metadata": {},
   "source": [
    "## How to use"
   ]
  },
  {
   "cell_type": "markdown",
   "metadata": {},
   "source": [
    "Create IIIF manifests and collection files."
   ]
  },
  {
   "cell_type": "markdown",
   "metadata": {},
   "source": [
    "```python\n",
    "DATA_DIR = \"../src/data\"\n",
    "DOCS_DIR = \"../docs\"\n",
    "ORIGIN = \"https://nakamura196.github.io/toji_iiif/iiif\"\n",
    "\n",
    "TojiClient.main(DATA_DIR, DOCS_DIR, ORIGIN, size=1, is_skip_if_manifest_exists=True)\n",
    "```"
   ]
  },
  {
   "cell_type": "markdown",
   "metadata": {},
   "source": [
    "Create index page from IIIF Collection file."
   ]
  },
  {
   "cell_type": "markdown",
   "metadata": {},
   "source": [
    "```python\n",
    "TojiClient.create_index(\n",
    "    f\"{DOCS_DIR}/iiif/set/3/collection.json\",\n",
    "    f\"{DOCS_DIR}/index.html\",\n",
    ")\n",
    "```"
   ]
  }
 ],
 "metadata": {
  "kernelspec": {
   "display_name": "python3",
   "language": "python",
   "name": "python3"
  }
 },
 "nbformat": 4,
 "nbformat_minor": 4
}
