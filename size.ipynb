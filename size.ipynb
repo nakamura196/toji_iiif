{
 "cells": [
  {
   "cell_type": "code",
   "execution_count": 17,
   "metadata": {},
   "outputs": [],
   "source": [
    "import pandas as pd\n",
    "from PIL import Image\n",
    "import requests\n",
    "from io import BytesIO\n",
    "from tqdm import tqdm\n",
    "import json\n",
    "import time"
   ]
  },
  {
   "cell_type": "code",
   "execution_count": 18,
   "metadata": {},
   "outputs": [],
   "source": [
    "images = pd.read_csv(\"tjhm_docs_20200130/images.txt\", sep=\"\\t\")"
   ]
  },
  {
   "cell_type": "code",
   "execution_count": 19,
   "metadata": {},
   "outputs": [],
   "source": [
    "path = \"image_sizes.csv\""
   ]
  },
  {
   "cell_type": "code",
   "execution_count": 20,
   "metadata": {},
   "outputs": [
    {
     "name": "stderr",
     "output_type": "stream",
     "text": [
      "  1%|          | 767/81126 [13:34<35:19:58,  1.58s/it]"
     ]
    }
   ],
   "source": [
    "with open(path, \"r\") as f:\n",
    "    rows = json.load(f)\n",
    "\n",
    "urls = []\n",
    "\n",
    "for i, row_i in images.iterrows():\n",
    "\n",
    "    url = row_i[\"image_l\"]\n",
    "\n",
    "    urls.append(url)\n",
    "\n",
    "for url in tqdm(urls):\n",
    "\n",
    "    if any([url == row[\"url\"] for row in rows]):\n",
    "        continue\n",
    "\n",
    "    time.sleep(1)\n",
    "\n",
    "    # Use requests to fetch the image\n",
    "    response = requests.get(url)\n",
    "    response.raise_for_status()  # Raises an HTTPError for bad responses\n",
    "\n",
    "    image_bytes = BytesIO(response.content)\n",
    "\n",
    "    im = Image.open(image_bytes)\n",
    "\n",
    "    w, h = im.size\n",
    "\n",
    "    rows.append({\n",
    "        \"url\": url,\n",
    "        \"width\": w,\n",
    "        \"height\": h\n",
    "    })\n",
    "\n",
    "    with open(\"image_sizes.csv\", \"w\") as f:\n",
    "        json.dump(rows, f)"
   ]
  }
 ],
 "metadata": {
  "kernelspec": {
   "display_name": ".venv",
   "language": "python",
   "name": "python3"
  },
  "language_info": {
   "codemirror_mode": {
    "name": "ipython",
    "version": 3
   },
   "file_extension": ".py",
   "mimetype": "text/x-python",
   "name": "python",
   "nbconvert_exporter": "python",
   "pygments_lexer": "ipython3",
   "version": "3.9.11"
  }
 },
 "nbformat": 4,
 "nbformat_minor": 2
}
